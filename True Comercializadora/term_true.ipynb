{
 "metadata": {
  "language_info": {
   "codemirror_mode": {
    "name": "ipython",
    "version": 3
   },
   "file_extension": ".py",
   "mimetype": "text/x-python",
   "name": "python",
   "nbconvert_exporter": "python",
   "pygments_lexer": "ipython3",
   "version": "3.8.5"
  },
  "orig_nbformat": 2,
  "kernelspec": {
   "name": "python385jvsc74a57bd0c6c8430e89a15a4f705a576eccecf88c53706536bbd7637c0db045d1215ec196",
   "display_name": "Python 3.8.5 64-bit ('base': conda)"
  }
 },
 "nbformat": 4,
 "nbformat_minor": 2,
 "cells": [
  {
   "cell_type": "code",
   "execution_count": null,
   "metadata": {},
   "outputs": [],
   "source": [
    "import requests as req\n",
    "import zipfile as zf\n",
    "\n",
    "def leLinhas(file, sep = None):\n",
    "    with arquivozip.open(file, \"r\") as csvfile:\n",
    "        return [ linha.decode(\"utf8\").rstrip().split(sep) for linha in csvfile.readlines() ]\n",
    "\n",
    "filename = \"teste_true_term.zip\"\n",
    "resp = req.get(\"https://datawarehouse-true.s3-sa-east-1.amazonaws.com/teste-true/teste_true_term.zip\")\n",
    "\n",
    "with open(filename, \"wb\") as download:\n",
    "    download.write(resp.content)\n",
    "\n",
    "with zf.ZipFile(filename, \"r\") as arquivozip:\n",
    "    linhasCSV = leLinhas(\"encad-termicas.csv\", \",\")\n",
    "    linhasDAT = leLinhas(\"TERM.DAT\")\n",
    "    \n",
    "    usinasCSV = [ linha[1] for linha in linhasCSV ]\n",
    "    usinasDAT = [ linha[1] for linha in linhasDAT ]\n",
    "    \n",
    "    for usina in usinasCSV:\n",
    "        if usina != \"nome\" and usina in usinasDAT:\n",
    "            linhasDAT[usinasDAT.index(usina)] = linhasCSV[usinasCSV.index(usina)] \n",
    "\n",
    "with zf.ZipFile(filename, \"w\") as arquivozip:\n",
    "    with arquivozip.open(\"TERM_TRUE.DAT\", \"w\") as new:\n",
    "        [ new.write(str(linha).encode()) for linha in linhasDAT ]"
   ]
  }
 ]
}